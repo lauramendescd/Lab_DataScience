{
  "nbformat": 4,
  "nbformat_minor": 0,
  "metadata": {
    "colab": {
      "provenance": [],
      "authorship_tag": "ABX9TyMdeoR/0xqWG7eIgy9kcDEN",
      "include_colab_link": true
    },
    "kernelspec": {
      "name": "python3",
      "display_name": "Python 3"
    },
    "language_info": {
      "name": "python"
    }
  },
  "cells": [
    {
      "cell_type": "markdown",
      "metadata": {
        "id": "view-in-github",
        "colab_type": "text"
      },
      "source": [
        "<a href=\"https://colab.research.google.com/github/lauramendescd/Lab_DataScience/blob/main/Olympics_Medals.ipynb\" target=\"_parent\"><img src=\"https://colab.research.google.com/assets/colab-badge.svg\" alt=\"Open In Colab\"/></a>"
      ]
    },
    {
      "cell_type": "code",
      "execution_count": 2,
      "metadata": {
        "id": "YPeMZPGCUgpX",
        "outputId": "6878b340-b9c5-46de-f3b6-4d0e62988dae",
        "colab": {
          "base_uri": "https://localhost:8080/",
          "height": 991
        }
      },
      "outputs": [
        {
          "output_type": "execute_result",
          "data": {
            "text/plain": [
              "            ID                                 Name Sex   Age  Height  Weight  \\\n",
              "40          16             Juhamatti Tapio Aaltonen   M  28.0   184.0    85.0   \n",
              "41          17              Paavo Johannes Aaltonen   M  28.0   175.0    64.0   \n",
              "42          17              Paavo Johannes Aaltonen   M  28.0   175.0    64.0   \n",
              "44          17              Paavo Johannes Aaltonen   M  28.0   175.0    64.0   \n",
              "48          17              Paavo Johannes Aaltonen   M  28.0   175.0    64.0   \n",
              "...        ...                                  ...  ..   ...     ...     ...   \n",
              "271078  135553  Galina Ivanovna Zybina (-Fyodorova)   F  25.0   168.0    80.0   \n",
              "271080  135553  Galina Ivanovna Zybina (-Fyodorova)   F  33.0   168.0    80.0   \n",
              "271082  135554                         Bogusaw Zych   M  28.0   182.0    82.0   \n",
              "271102  135563            Olesya Nikolayevna Zykina   F  19.0   171.0    64.0   \n",
              "271103  135563            Olesya Nikolayevna Zykina   F  23.0   171.0    64.0   \n",
              "\n",
              "                Team  NOC        Games  Year  Season       City       Sport  \\\n",
              "40           Finland  FIN  2014 Winter  2014  Winter      Sochi  Ice Hockey   \n",
              "41           Finland  FIN  1948 Summer  1948  Summer     London  Gymnastics   \n",
              "42           Finland  FIN  1948 Summer  1948  Summer     London  Gymnastics   \n",
              "44           Finland  FIN  1948 Summer  1948  Summer     London  Gymnastics   \n",
              "48           Finland  FIN  1948 Summer  1948  Summer     London  Gymnastics   \n",
              "...              ...  ...          ...   ...     ...        ...         ...   \n",
              "271078  Soviet Union  URS  1956 Summer  1956  Summer  Melbourne   Athletics   \n",
              "271080  Soviet Union  URS  1964 Summer  1964  Summer      Tokyo   Athletics   \n",
              "271082        Poland  POL  1980 Summer  1980  Summer     Moskva     Fencing   \n",
              "271102        Russia  RUS  2000 Summer  2000  Summer     Sydney   Athletics   \n",
              "271103        Russia  RUS  2004 Summer  2004  Summer     Athina   Athletics   \n",
              "\n",
              "                                         Event   Medal  \n",
              "40                 Ice Hockey Men's Ice Hockey  Bronze  \n",
              "41      Gymnastics Men's Individual All-Around  Bronze  \n",
              "42            Gymnastics Men's Team All-Around    Gold  \n",
              "44                Gymnastics Men's Horse Vault    Gold  \n",
              "48            Gymnastics Men's Pommelled Horse    Gold  \n",
              "...                                        ...     ...  \n",
              "271078              Athletics Women's Shot Put  Silver  \n",
              "271080              Athletics Women's Shot Put  Bronze  \n",
              "271082                Fencing Men's Foil, Team  Bronze  \n",
              "271102  Athletics Women's 4 x 400 metres Relay  Bronze  \n",
              "271103  Athletics Women's 4 x 400 metres Relay  Silver  \n",
              "\n",
              "[30181 rows x 15 columns]"
            ],
            "text/html": [
              "\n",
              "  <div id=\"df-37997b6b-28e4-4624-a489-2eaad080d581\">\n",
              "    <div class=\"colab-df-container\">\n",
              "      <div>\n",
              "<style scoped>\n",
              "    .dataframe tbody tr th:only-of-type {\n",
              "        vertical-align: middle;\n",
              "    }\n",
              "\n",
              "    .dataframe tbody tr th {\n",
              "        vertical-align: top;\n",
              "    }\n",
              "\n",
              "    .dataframe thead th {\n",
              "        text-align: right;\n",
              "    }\n",
              "</style>\n",
              "<table border=\"1\" class=\"dataframe\">\n",
              "  <thead>\n",
              "    <tr style=\"text-align: right;\">\n",
              "      <th></th>\n",
              "      <th>ID</th>\n",
              "      <th>Name</th>\n",
              "      <th>Sex</th>\n",
              "      <th>Age</th>\n",
              "      <th>Height</th>\n",
              "      <th>Weight</th>\n",
              "      <th>Team</th>\n",
              "      <th>NOC</th>\n",
              "      <th>Games</th>\n",
              "      <th>Year</th>\n",
              "      <th>Season</th>\n",
              "      <th>City</th>\n",
              "      <th>Sport</th>\n",
              "      <th>Event</th>\n",
              "      <th>Medal</th>\n",
              "    </tr>\n",
              "  </thead>\n",
              "  <tbody>\n",
              "    <tr>\n",
              "      <th>40</th>\n",
              "      <td>16</td>\n",
              "      <td>Juhamatti Tapio Aaltonen</td>\n",
              "      <td>M</td>\n",
              "      <td>28.0</td>\n",
              "      <td>184.0</td>\n",
              "      <td>85.0</td>\n",
              "      <td>Finland</td>\n",
              "      <td>FIN</td>\n",
              "      <td>2014 Winter</td>\n",
              "      <td>2014</td>\n",
              "      <td>Winter</td>\n",
              "      <td>Sochi</td>\n",
              "      <td>Ice Hockey</td>\n",
              "      <td>Ice Hockey Men's Ice Hockey</td>\n",
              "      <td>Bronze</td>\n",
              "    </tr>\n",
              "    <tr>\n",
              "      <th>41</th>\n",
              "      <td>17</td>\n",
              "      <td>Paavo Johannes Aaltonen</td>\n",
              "      <td>M</td>\n",
              "      <td>28.0</td>\n",
              "      <td>175.0</td>\n",
              "      <td>64.0</td>\n",
              "      <td>Finland</td>\n",
              "      <td>FIN</td>\n",
              "      <td>1948 Summer</td>\n",
              "      <td>1948</td>\n",
              "      <td>Summer</td>\n",
              "      <td>London</td>\n",
              "      <td>Gymnastics</td>\n",
              "      <td>Gymnastics Men's Individual All-Around</td>\n",
              "      <td>Bronze</td>\n",
              "    </tr>\n",
              "    <tr>\n",
              "      <th>42</th>\n",
              "      <td>17</td>\n",
              "      <td>Paavo Johannes Aaltonen</td>\n",
              "      <td>M</td>\n",
              "      <td>28.0</td>\n",
              "      <td>175.0</td>\n",
              "      <td>64.0</td>\n",
              "      <td>Finland</td>\n",
              "      <td>FIN</td>\n",
              "      <td>1948 Summer</td>\n",
              "      <td>1948</td>\n",
              "      <td>Summer</td>\n",
              "      <td>London</td>\n",
              "      <td>Gymnastics</td>\n",
              "      <td>Gymnastics Men's Team All-Around</td>\n",
              "      <td>Gold</td>\n",
              "    </tr>\n",
              "    <tr>\n",
              "      <th>44</th>\n",
              "      <td>17</td>\n",
              "      <td>Paavo Johannes Aaltonen</td>\n",
              "      <td>M</td>\n",
              "      <td>28.0</td>\n",
              "      <td>175.0</td>\n",
              "      <td>64.0</td>\n",
              "      <td>Finland</td>\n",
              "      <td>FIN</td>\n",
              "      <td>1948 Summer</td>\n",
              "      <td>1948</td>\n",
              "      <td>Summer</td>\n",
              "      <td>London</td>\n",
              "      <td>Gymnastics</td>\n",
              "      <td>Gymnastics Men's Horse Vault</td>\n",
              "      <td>Gold</td>\n",
              "    </tr>\n",
              "    <tr>\n",
              "      <th>48</th>\n",
              "      <td>17</td>\n",
              "      <td>Paavo Johannes Aaltonen</td>\n",
              "      <td>M</td>\n",
              "      <td>28.0</td>\n",
              "      <td>175.0</td>\n",
              "      <td>64.0</td>\n",
              "      <td>Finland</td>\n",
              "      <td>FIN</td>\n",
              "      <td>1948 Summer</td>\n",
              "      <td>1948</td>\n",
              "      <td>Summer</td>\n",
              "      <td>London</td>\n",
              "      <td>Gymnastics</td>\n",
              "      <td>Gymnastics Men's Pommelled Horse</td>\n",
              "      <td>Gold</td>\n",
              "    </tr>\n",
              "    <tr>\n",
              "      <th>...</th>\n",
              "      <td>...</td>\n",
              "      <td>...</td>\n",
              "      <td>...</td>\n",
              "      <td>...</td>\n",
              "      <td>...</td>\n",
              "      <td>...</td>\n",
              "      <td>...</td>\n",
              "      <td>...</td>\n",
              "      <td>...</td>\n",
              "      <td>...</td>\n",
              "      <td>...</td>\n",
              "      <td>...</td>\n",
              "      <td>...</td>\n",
              "      <td>...</td>\n",
              "      <td>...</td>\n",
              "    </tr>\n",
              "    <tr>\n",
              "      <th>271078</th>\n",
              "      <td>135553</td>\n",
              "      <td>Galina Ivanovna Zybina (-Fyodorova)</td>\n",
              "      <td>F</td>\n",
              "      <td>25.0</td>\n",
              "      <td>168.0</td>\n",
              "      <td>80.0</td>\n",
              "      <td>Soviet Union</td>\n",
              "      <td>URS</td>\n",
              "      <td>1956 Summer</td>\n",
              "      <td>1956</td>\n",
              "      <td>Summer</td>\n",
              "      <td>Melbourne</td>\n",
              "      <td>Athletics</td>\n",
              "      <td>Athletics Women's Shot Put</td>\n",
              "      <td>Silver</td>\n",
              "    </tr>\n",
              "    <tr>\n",
              "      <th>271080</th>\n",
              "      <td>135553</td>\n",
              "      <td>Galina Ivanovna Zybina (-Fyodorova)</td>\n",
              "      <td>F</td>\n",
              "      <td>33.0</td>\n",
              "      <td>168.0</td>\n",
              "      <td>80.0</td>\n",
              "      <td>Soviet Union</td>\n",
              "      <td>URS</td>\n",
              "      <td>1964 Summer</td>\n",
              "      <td>1964</td>\n",
              "      <td>Summer</td>\n",
              "      <td>Tokyo</td>\n",
              "      <td>Athletics</td>\n",
              "      <td>Athletics Women's Shot Put</td>\n",
              "      <td>Bronze</td>\n",
              "    </tr>\n",
              "    <tr>\n",
              "      <th>271082</th>\n",
              "      <td>135554</td>\n",
              "      <td>Bogusaw Zych</td>\n",
              "      <td>M</td>\n",
              "      <td>28.0</td>\n",
              "      <td>182.0</td>\n",
              "      <td>82.0</td>\n",
              "      <td>Poland</td>\n",
              "      <td>POL</td>\n",
              "      <td>1980 Summer</td>\n",
              "      <td>1980</td>\n",
              "      <td>Summer</td>\n",
              "      <td>Moskva</td>\n",
              "      <td>Fencing</td>\n",
              "      <td>Fencing Men's Foil, Team</td>\n",
              "      <td>Bronze</td>\n",
              "    </tr>\n",
              "    <tr>\n",
              "      <th>271102</th>\n",
              "      <td>135563</td>\n",
              "      <td>Olesya Nikolayevna Zykina</td>\n",
              "      <td>F</td>\n",
              "      <td>19.0</td>\n",
              "      <td>171.0</td>\n",
              "      <td>64.0</td>\n",
              "      <td>Russia</td>\n",
              "      <td>RUS</td>\n",
              "      <td>2000 Summer</td>\n",
              "      <td>2000</td>\n",
              "      <td>Summer</td>\n",
              "      <td>Sydney</td>\n",
              "      <td>Athletics</td>\n",
              "      <td>Athletics Women's 4 x 400 metres Relay</td>\n",
              "      <td>Bronze</td>\n",
              "    </tr>\n",
              "    <tr>\n",
              "      <th>271103</th>\n",
              "      <td>135563</td>\n",
              "      <td>Olesya Nikolayevna Zykina</td>\n",
              "      <td>F</td>\n",
              "      <td>23.0</td>\n",
              "      <td>171.0</td>\n",
              "      <td>64.0</td>\n",
              "      <td>Russia</td>\n",
              "      <td>RUS</td>\n",
              "      <td>2004 Summer</td>\n",
              "      <td>2004</td>\n",
              "      <td>Summer</td>\n",
              "      <td>Athina</td>\n",
              "      <td>Athletics</td>\n",
              "      <td>Athletics Women's 4 x 400 metres Relay</td>\n",
              "      <td>Silver</td>\n",
              "    </tr>\n",
              "  </tbody>\n",
              "</table>\n",
              "<p>30181 rows × 15 columns</p>\n",
              "</div>\n",
              "      <button class=\"colab-df-convert\" onclick=\"convertToInteractive('df-37997b6b-28e4-4624-a489-2eaad080d581')\"\n",
              "              title=\"Convert this dataframe to an interactive table.\"\n",
              "              style=\"display:none;\">\n",
              "        \n",
              "  <svg xmlns=\"http://www.w3.org/2000/svg\" height=\"24px\"viewBox=\"0 0 24 24\"\n",
              "       width=\"24px\">\n",
              "    <path d=\"M0 0h24v24H0V0z\" fill=\"none\"/>\n",
              "    <path d=\"M18.56 5.44l.94 2.06.94-2.06 2.06-.94-2.06-.94-.94-2.06-.94 2.06-2.06.94zm-11 1L8.5 8.5l.94-2.06 2.06-.94-2.06-.94L8.5 2.5l-.94 2.06-2.06.94zm10 10l.94 2.06.94-2.06 2.06-.94-2.06-.94-.94-2.06-.94 2.06-2.06.94z\"/><path d=\"M17.41 7.96l-1.37-1.37c-.4-.4-.92-.59-1.43-.59-.52 0-1.04.2-1.43.59L10.3 9.45l-7.72 7.72c-.78.78-.78 2.05 0 2.83L4 21.41c.39.39.9.59 1.41.59.51 0 1.02-.2 1.41-.59l7.78-7.78 2.81-2.81c.8-.78.8-2.07 0-2.86zM5.41 20L4 18.59l7.72-7.72 1.47 1.35L5.41 20z\"/>\n",
              "  </svg>\n",
              "      </button>\n",
              "      \n",
              "  <style>\n",
              "    .colab-df-container {\n",
              "      display:flex;\n",
              "      flex-wrap:wrap;\n",
              "      gap: 12px;\n",
              "    }\n",
              "\n",
              "    .colab-df-convert {\n",
              "      background-color: #E8F0FE;\n",
              "      border: none;\n",
              "      border-radius: 50%;\n",
              "      cursor: pointer;\n",
              "      display: none;\n",
              "      fill: #1967D2;\n",
              "      height: 32px;\n",
              "      padding: 0 0 0 0;\n",
              "      width: 32px;\n",
              "    }\n",
              "\n",
              "    .colab-df-convert:hover {\n",
              "      background-color: #E2EBFA;\n",
              "      box-shadow: 0px 1px 2px rgba(60, 64, 67, 0.3), 0px 1px 3px 1px rgba(60, 64, 67, 0.15);\n",
              "      fill: #174EA6;\n",
              "    }\n",
              "\n",
              "    [theme=dark] .colab-df-convert {\n",
              "      background-color: #3B4455;\n",
              "      fill: #D2E3FC;\n",
              "    }\n",
              "\n",
              "    [theme=dark] .colab-df-convert:hover {\n",
              "      background-color: #434B5C;\n",
              "      box-shadow: 0px 1px 3px 1px rgba(0, 0, 0, 0.15);\n",
              "      filter: drop-shadow(0px 1px 2px rgba(0, 0, 0, 0.3));\n",
              "      fill: #FFFFFF;\n",
              "    }\n",
              "  </style>\n",
              "\n",
              "      <script>\n",
              "        const buttonEl =\n",
              "          document.querySelector('#df-37997b6b-28e4-4624-a489-2eaad080d581 button.colab-df-convert');\n",
              "        buttonEl.style.display =\n",
              "          google.colab.kernel.accessAllowed ? 'block' : 'none';\n",
              "\n",
              "        async function convertToInteractive(key) {\n",
              "          const element = document.querySelector('#df-37997b6b-28e4-4624-a489-2eaad080d581');\n",
              "          const dataTable =\n",
              "            await google.colab.kernel.invokeFunction('convertToInteractive',\n",
              "                                                     [key], {});\n",
              "          if (!dataTable) return;\n",
              "\n",
              "          const docLinkHtml = 'Like what you see? Visit the ' +\n",
              "            '<a target=\"_blank\" href=https://colab.research.google.com/notebooks/data_table.ipynb>data table notebook</a>'\n",
              "            + ' to learn more about interactive tables.';\n",
              "          element.innerHTML = '';\n",
              "          dataTable['output_type'] = 'display_data';\n",
              "          await google.colab.output.renderOutput(dataTable, element);\n",
              "          const docLink = document.createElement('div');\n",
              "          docLink.innerHTML = docLinkHtml;\n",
              "          element.appendChild(docLink);\n",
              "        }\n",
              "      </script>\n",
              "    </div>\n",
              "  </div>\n",
              "  "
            ]
          },
          "metadata": {},
          "execution_count": 2
        }
      ],
      "source": [
        "import pandas as pd\n",
        "import matplotlib.pyplot as plt\n",
        "import seaborn as sns\n",
        "\n",
        "# Carregando o conjunto de dados\n",
        "df = pd.read_csv('athlete_events.csv')\n",
        "df = df.dropna()\n",
        "df"
      ]
    },
    {
      "cell_type": "code",
      "source": [
        "#info() verifica as informações do conjunto de dados(número de linhas,colunas, tipo das variáveis)\n",
        "df.info()"
      ],
      "metadata": {
        "colab": {
          "base_uri": "https://localhost:8080/"
        },
        "id": "DPeXQA7FuOaV",
        "outputId": "b2a1edd1-34b8-47d5-af03-e78a5d714e86"
      },
      "execution_count": 3,
      "outputs": [
        {
          "output_type": "stream",
          "name": "stdout",
          "text": [
            "<class 'pandas.core.frame.DataFrame'>\n",
            "Int64Index: 30181 entries, 40 to 271103\n",
            "Data columns (total 15 columns):\n",
            " #   Column  Non-Null Count  Dtype  \n",
            "---  ------  --------------  -----  \n",
            " 0   ID      30181 non-null  int64  \n",
            " 1   Name    30181 non-null  object \n",
            " 2   Sex     30181 non-null  object \n",
            " 3   Age     30181 non-null  float64\n",
            " 4   Height  30181 non-null  float64\n",
            " 5   Weight  30181 non-null  float64\n",
            " 6   Team    30181 non-null  object \n",
            " 7   NOC     30181 non-null  object \n",
            " 8   Games   30181 non-null  object \n",
            " 9   Year    30181 non-null  int64  \n",
            " 10  Season  30181 non-null  object \n",
            " 11  City    30181 non-null  object \n",
            " 12  Sport   30181 non-null  object \n",
            " 13  Event   30181 non-null  object \n",
            " 14  Medal   30181 non-null  object \n",
            "dtypes: float64(3), int64(2), object(10)\n",
            "memory usage: 3.7+ MB\n"
          ]
        }
      ]
    },
    {
      "cell_type": "code",
      "source": [
        "# rename para renomear colunas do df\n",
        "df = df.rename(columns={'Age': 'Idade', 'Name': 'Nome', 'Weight': 'Peso', \n",
        "                        'Sex':'Sexo', 'Games': 'Jogos', 'Year': 'Ano', 'Sport': 'Esporte',\n",
        "                        'Medal':'Medalha', 'Season':'Estação', 'Height': 'Altura', 'Time':'Tempo'})\n",
        "\n",
        "# verificando se foi renomeada \n",
        "print(df)\n",
        "df = df.dropna()\n"
      ],
      "metadata": {
        "colab": {
          "base_uri": "https://localhost:8080/"
        },
        "id": "BQGTgQSIKux9",
        "outputId": "b2e32c4f-a94f-47a1-b1d2-e81386ecd61d"
      },
      "execution_count": 4,
      "outputs": [
        {
          "output_type": "stream",
          "name": "stdout",
          "text": [
            "            ID                                 Nome Sexo  Idade  Altura  Peso  \\\n",
            "40          16             Juhamatti Tapio Aaltonen    M   28.0   184.0  85.0   \n",
            "41          17              Paavo Johannes Aaltonen    M   28.0   175.0  64.0   \n",
            "42          17              Paavo Johannes Aaltonen    M   28.0   175.0  64.0   \n",
            "44          17              Paavo Johannes Aaltonen    M   28.0   175.0  64.0   \n",
            "48          17              Paavo Johannes Aaltonen    M   28.0   175.0  64.0   \n",
            "...        ...                                  ...  ...    ...     ...   ...   \n",
            "271078  135553  Galina Ivanovna Zybina (-Fyodorova)    F   25.0   168.0  80.0   \n",
            "271080  135553  Galina Ivanovna Zybina (-Fyodorova)    F   33.0   168.0  80.0   \n",
            "271082  135554                         Bogusaw Zych    M   28.0   182.0  82.0   \n",
            "271102  135563            Olesya Nikolayevna Zykina    F   19.0   171.0  64.0   \n",
            "271103  135563            Olesya Nikolayevna Zykina    F   23.0   171.0  64.0   \n",
            "\n",
            "                Team  NOC        Jogos   Ano Estação       City     Esporte  \\\n",
            "40           Finland  FIN  2014 Winter  2014  Winter      Sochi  Ice Hockey   \n",
            "41           Finland  FIN  1948 Summer  1948  Summer     London  Gymnastics   \n",
            "42           Finland  FIN  1948 Summer  1948  Summer     London  Gymnastics   \n",
            "44           Finland  FIN  1948 Summer  1948  Summer     London  Gymnastics   \n",
            "48           Finland  FIN  1948 Summer  1948  Summer     London  Gymnastics   \n",
            "...              ...  ...          ...   ...     ...        ...         ...   \n",
            "271078  Soviet Union  URS  1956 Summer  1956  Summer  Melbourne   Athletics   \n",
            "271080  Soviet Union  URS  1964 Summer  1964  Summer      Tokyo   Athletics   \n",
            "271082        Poland  POL  1980 Summer  1980  Summer     Moskva     Fencing   \n",
            "271102        Russia  RUS  2000 Summer  2000  Summer     Sydney   Athletics   \n",
            "271103        Russia  RUS  2004 Summer  2004  Summer     Athina   Athletics   \n",
            "\n",
            "                                         Event Medalha  \n",
            "40                 Ice Hockey Men's Ice Hockey  Bronze  \n",
            "41      Gymnastics Men's Individual All-Around  Bronze  \n",
            "42            Gymnastics Men's Team All-Around    Gold  \n",
            "44                Gymnastics Men's Horse Vault    Gold  \n",
            "48            Gymnastics Men's Pommelled Horse    Gold  \n",
            "...                                        ...     ...  \n",
            "271078              Athletics Women's Shot Put  Silver  \n",
            "271080              Athletics Women's Shot Put  Bronze  \n",
            "271082                Fencing Men's Foil, Team  Bronze  \n",
            "271102  Athletics Women's 4 x 400 metres Relay  Bronze  \n",
            "271103  Athletics Women's 4 x 400 metres Relay  Silver  \n",
            "\n",
            "[30181 rows x 15 columns]\n"
          ]
        }
      ]
    },
    {
      "cell_type": "code",
      "source": [
        "#describe() para gerar estatísticas descritivas do df\n",
        "df.describe()"
      ],
      "metadata": {
        "colab": {
          "base_uri": "https://localhost:8080/",
          "height": 300
        },
        "id": "aUQPa50UxLzS",
        "outputId": "5618cfb1-d269-4307-a48d-f0c09a000e0b"
      },
      "execution_count": 5,
      "outputs": [
        {
          "output_type": "execute_result",
          "data": {
            "text/plain": [
              "                  ID         Idade        Altura          Peso           Ano\n",
              "count   30181.000000  30181.000000  30181.000000  30181.000000  30181.000000\n",
              "mean    70225.949604     25.429012    177.642358     73.753554   1988.005964\n",
              "std     38839.720551      5.049684     10.924188     15.004992     22.718451\n",
              "min        16.000000     13.000000    136.000000     28.000000   1896.000000\n",
              "25%     37494.000000     22.000000    170.000000     63.000000   1976.000000\n",
              "50%     69771.000000     25.000000    178.000000     73.000000   1992.000000\n",
              "75%    104111.000000     28.000000    185.000000     83.000000   2006.000000\n",
              "max    135563.000000     66.000000    223.000000    182.000000   2016.000000"
            ],
            "text/html": [
              "\n",
              "  <div id=\"df-f9b69444-31bd-4a5b-bd1a-9a61c780f8be\">\n",
              "    <div class=\"colab-df-container\">\n",
              "      <div>\n",
              "<style scoped>\n",
              "    .dataframe tbody tr th:only-of-type {\n",
              "        vertical-align: middle;\n",
              "    }\n",
              "\n",
              "    .dataframe tbody tr th {\n",
              "        vertical-align: top;\n",
              "    }\n",
              "\n",
              "    .dataframe thead th {\n",
              "        text-align: right;\n",
              "    }\n",
              "</style>\n",
              "<table border=\"1\" class=\"dataframe\">\n",
              "  <thead>\n",
              "    <tr style=\"text-align: right;\">\n",
              "      <th></th>\n",
              "      <th>ID</th>\n",
              "      <th>Idade</th>\n",
              "      <th>Altura</th>\n",
              "      <th>Peso</th>\n",
              "      <th>Ano</th>\n",
              "    </tr>\n",
              "  </thead>\n",
              "  <tbody>\n",
              "    <tr>\n",
              "      <th>count</th>\n",
              "      <td>30181.000000</td>\n",
              "      <td>30181.000000</td>\n",
              "      <td>30181.000000</td>\n",
              "      <td>30181.000000</td>\n",
              "      <td>30181.000000</td>\n",
              "    </tr>\n",
              "    <tr>\n",
              "      <th>mean</th>\n",
              "      <td>70225.949604</td>\n",
              "      <td>25.429012</td>\n",
              "      <td>177.642358</td>\n",
              "      <td>73.753554</td>\n",
              "      <td>1988.005964</td>\n",
              "    </tr>\n",
              "    <tr>\n",
              "      <th>std</th>\n",
              "      <td>38839.720551</td>\n",
              "      <td>5.049684</td>\n",
              "      <td>10.924188</td>\n",
              "      <td>15.004992</td>\n",
              "      <td>22.718451</td>\n",
              "    </tr>\n",
              "    <tr>\n",
              "      <th>min</th>\n",
              "      <td>16.000000</td>\n",
              "      <td>13.000000</td>\n",
              "      <td>136.000000</td>\n",
              "      <td>28.000000</td>\n",
              "      <td>1896.000000</td>\n",
              "    </tr>\n",
              "    <tr>\n",
              "      <th>25%</th>\n",
              "      <td>37494.000000</td>\n",
              "      <td>22.000000</td>\n",
              "      <td>170.000000</td>\n",
              "      <td>63.000000</td>\n",
              "      <td>1976.000000</td>\n",
              "    </tr>\n",
              "    <tr>\n",
              "      <th>50%</th>\n",
              "      <td>69771.000000</td>\n",
              "      <td>25.000000</td>\n",
              "      <td>178.000000</td>\n",
              "      <td>73.000000</td>\n",
              "      <td>1992.000000</td>\n",
              "    </tr>\n",
              "    <tr>\n",
              "      <th>75%</th>\n",
              "      <td>104111.000000</td>\n",
              "      <td>28.000000</td>\n",
              "      <td>185.000000</td>\n",
              "      <td>83.000000</td>\n",
              "      <td>2006.000000</td>\n",
              "    </tr>\n",
              "    <tr>\n",
              "      <th>max</th>\n",
              "      <td>135563.000000</td>\n",
              "      <td>66.000000</td>\n",
              "      <td>223.000000</td>\n",
              "      <td>182.000000</td>\n",
              "      <td>2016.000000</td>\n",
              "    </tr>\n",
              "  </tbody>\n",
              "</table>\n",
              "</div>\n",
              "      <button class=\"colab-df-convert\" onclick=\"convertToInteractive('df-f9b69444-31bd-4a5b-bd1a-9a61c780f8be')\"\n",
              "              title=\"Convert this dataframe to an interactive table.\"\n",
              "              style=\"display:none;\">\n",
              "        \n",
              "  <svg xmlns=\"http://www.w3.org/2000/svg\" height=\"24px\"viewBox=\"0 0 24 24\"\n",
              "       width=\"24px\">\n",
              "    <path d=\"M0 0h24v24H0V0z\" fill=\"none\"/>\n",
              "    <path d=\"M18.56 5.44l.94 2.06.94-2.06 2.06-.94-2.06-.94-.94-2.06-.94 2.06-2.06.94zm-11 1L8.5 8.5l.94-2.06 2.06-.94-2.06-.94L8.5 2.5l-.94 2.06-2.06.94zm10 10l.94 2.06.94-2.06 2.06-.94-2.06-.94-.94-2.06-.94 2.06-2.06.94z\"/><path d=\"M17.41 7.96l-1.37-1.37c-.4-.4-.92-.59-1.43-.59-.52 0-1.04.2-1.43.59L10.3 9.45l-7.72 7.72c-.78.78-.78 2.05 0 2.83L4 21.41c.39.39.9.59 1.41.59.51 0 1.02-.2 1.41-.59l7.78-7.78 2.81-2.81c.8-.78.8-2.07 0-2.86zM5.41 20L4 18.59l7.72-7.72 1.47 1.35L5.41 20z\"/>\n",
              "  </svg>\n",
              "      </button>\n",
              "      \n",
              "  <style>\n",
              "    .colab-df-container {\n",
              "      display:flex;\n",
              "      flex-wrap:wrap;\n",
              "      gap: 12px;\n",
              "    }\n",
              "\n",
              "    .colab-df-convert {\n",
              "      background-color: #E8F0FE;\n",
              "      border: none;\n",
              "      border-radius: 50%;\n",
              "      cursor: pointer;\n",
              "      display: none;\n",
              "      fill: #1967D2;\n",
              "      height: 32px;\n",
              "      padding: 0 0 0 0;\n",
              "      width: 32px;\n",
              "    }\n",
              "\n",
              "    .colab-df-convert:hover {\n",
              "      background-color: #E2EBFA;\n",
              "      box-shadow: 0px 1px 2px rgba(60, 64, 67, 0.3), 0px 1px 3px 1px rgba(60, 64, 67, 0.15);\n",
              "      fill: #174EA6;\n",
              "    }\n",
              "\n",
              "    [theme=dark] .colab-df-convert {\n",
              "      background-color: #3B4455;\n",
              "      fill: #D2E3FC;\n",
              "    }\n",
              "\n",
              "    [theme=dark] .colab-df-convert:hover {\n",
              "      background-color: #434B5C;\n",
              "      box-shadow: 0px 1px 3px 1px rgba(0, 0, 0, 0.15);\n",
              "      filter: drop-shadow(0px 1px 2px rgba(0, 0, 0, 0.3));\n",
              "      fill: #FFFFFF;\n",
              "    }\n",
              "  </style>\n",
              "\n",
              "      <script>\n",
              "        const buttonEl =\n",
              "          document.querySelector('#df-f9b69444-31bd-4a5b-bd1a-9a61c780f8be button.colab-df-convert');\n",
              "        buttonEl.style.display =\n",
              "          google.colab.kernel.accessAllowed ? 'block' : 'none';\n",
              "\n",
              "        async function convertToInteractive(key) {\n",
              "          const element = document.querySelector('#df-f9b69444-31bd-4a5b-bd1a-9a61c780f8be');\n",
              "          const dataTable =\n",
              "            await google.colab.kernel.invokeFunction('convertToInteractive',\n",
              "                                                     [key], {});\n",
              "          if (!dataTable) return;\n",
              "\n",
              "          const docLinkHtml = 'Like what you see? Visit the ' +\n",
              "            '<a target=\"_blank\" href=https://colab.research.google.com/notebooks/data_table.ipynb>data table notebook</a>'\n",
              "            + ' to learn more about interactive tables.';\n",
              "          element.innerHTML = '';\n",
              "          dataTable['output_type'] = 'display_data';\n",
              "          await google.colab.output.renderOutput(dataTable, element);\n",
              "          const docLink = document.createElement('div');\n",
              "          docLink.innerHTML = docLinkHtml;\n",
              "          element.appendChild(docLink);\n",
              "        }\n",
              "      </script>\n",
              "    </div>\n",
              "  </div>\n",
              "  "
            ]
          },
          "metadata": {},
          "execution_count": 5
        }
      ]
    },
    {
      "cell_type": "code",
      "source": [
        "# filtragem de atletas mulheres e calculos da média, mínimo e máximo de idade e altura\n",
        "atletas_mulheres = df[df['Sexo'] == 'F']\n",
        "media_idade_mulheres = atletas_mulheres['Idade'].mean()\n",
        "print('Média de idade das mulheres:', media_idade_mulheres)\n",
        "\n",
        "min_idade_mulheres = atletas_mulheres['Idade'].min()\n",
        "print('Idade mínima das mulheres:', min_idade_mulheres)\n",
        "\n",
        "max_idade_mulheres = atletas_mulheres['Idade'].max()\n",
        "print('Idade máxima das mulheres:', max_idade_mulheres)\n",
        "\n",
        "media_altura_mulheres = atletas_mulheres['Altura'].mean()\n",
        "print('Média de altura das mulheres:', media_altura_mulheres)\n",
        "\n",
        "min_altura_mulheres = atletas_mulheres['Altura'].min()\n",
        "print('Altura mínima das mulheres:', min_altura_mulheres)\n",
        "\n",
        "max_altura_mulheres = atletas_mulheres['Altura'].max()\n",
        "print('Altura máxima das mulheres:', max_altura_mulheres)\n",
        "\n"
      ],
      "metadata": {
        "colab": {
          "base_uri": "https://localhost:8080/"
        },
        "id": "SHEFnZrRourD",
        "outputId": "fc1c1b49-e8d3-4883-951a-157b3dffa6e9"
      },
      "execution_count": 6,
      "outputs": [
        {
          "output_type": "stream",
          "name": "stdout",
          "text": [
            "Média de idade das mulheres: 24.5975845410628\n",
            "Idade mínima das mulheres: 13.0\n",
            "Idade máxima das mulheres: 52.0\n",
            "Média de altura das mulheres: 170.53294685990338\n",
            "Altura mínima das mulheres: 136.0\n",
            "Altura máxima das mulheres: 210.0\n"
          ]
        }
      ]
    },
    {
      "cell_type": "code",
      "source": [
        "# filtragem de atletas mulheres e contagem (size())do número de linhas em cada grupo (group_by()) \"Esporte\"\n",
        "atletas_mulheres_por_esporte = df[df['Sexo'] == 'F'].groupby('Esporte').size()\n",
        "\n",
        "print('Quantidade de mulheres em cada esporte:')\n",
        "print(atletas_mulheres_por_esporte)\n"
      ],
      "metadata": {
        "colab": {
          "base_uri": "https://localhost:8080/"
        },
        "id": "b7SX0PP0nGeh",
        "outputId": "0ee0b519-f8a7-426b-88b9-4c8c55311b23"
      },
      "execution_count": 7,
      "outputs": [
        {
          "output_type": "stream",
          "name": "stdout",
          "text": [
            "Quantidade de mulheres em cada esporte:\n",
            "Esporte\n",
            "Alpine Skiing                 180\n",
            "Archery                       100\n",
            "Athletics                    1239\n",
            "Badminton                      73\n",
            "Basketball                    390\n",
            "Beach Volleyball               35\n",
            "Biathlon                      147\n",
            "Bobsleigh                      24\n",
            "Boxing                         23\n",
            "Canoeing                      271\n",
            "Cross Country Skiing          316\n",
            "Curling                        66\n",
            "Cycling                       176\n",
            "Diving                        161\n",
            "Equestrianism                 192\n",
            "Fencing                       326\n",
            "Figure Skating                125\n",
            "Football                      301\n",
            "Freestyle Skiing               51\n",
            "Golf                            2\n",
            "Gymnastics                    508\n",
            "Handball                      421\n",
            "Hockey                        454\n",
            "Ice Hockey                    300\n",
            "Judo                          188\n",
            "Luge                           45\n",
            "Modern Pentathlon              15\n",
            "Rhythmic Gymnastics           124\n",
            "Rowing                        708\n",
            "Rugby Sevens                   36\n",
            "Sailing                       125\n",
            "Shooting                      145\n",
            "Short Track Speed Skating     136\n",
            "Skeleton                       12\n",
            "Ski Jumping                     3\n",
            "Snowboarding                   45\n",
            "Softball                      172\n",
            "Speed Skating                 236\n",
            "Swimming                     1167\n",
            "Synchronized Swimming         214\n",
            "Table Tennis                   80\n",
            "Taekwondo                      72\n",
            "Tennis                         84\n",
            "Trampolining                   14\n",
            "Triathlon                      15\n",
            "Volleyball                    469\n",
            "Water Polo                    191\n",
            "Weightlifting                 105\n",
            "Wrestling                      68\n",
            "dtype: int64\n"
          ]
        }
      ]
    },
    {
      "cell_type": "code",
      "source": [
        "# O método value_counts() retorna a contagem do número de ocorrências na coluna \"Medalha\"\n",
        "\n",
        "medalhas_mulheres = atletas_mulheres['Medalha'].value_counts()\n",
        "\n",
        "medalhas_soma_= medalhas_mulheres.sum()\n",
        "print('Número total de medalhas ganhas por atletas mulheres:',medalhas_soma_)\n",
        "\n",
        "print('Número de medalhas ganhas por atletas mulheres:')\n",
        "print(medalhas_mulheres)\n"
      ],
      "metadata": {
        "id": "80gFNfyNnwgj",
        "colab": {
          "base_uri": "https://localhost:8080/"
        },
        "outputId": "7f14545e-ca9a-475a-f4e2-807cbd631f1b"
      },
      "execution_count": 8,
      "outputs": [
        {
          "output_type": "stream",
          "name": "stdout",
          "text": [
            "Número total de medalhas ganhas por atletas mulheres: 10350\n",
            "Número de medalhas ganhas por atletas mulheres:\n",
            "Bronze    3475\n",
            "Silver    3438\n",
            "Gold      3437\n",
            "Name: Medalha, dtype: int64\n"
          ]
        }
      ]
    },
    {
      "cell_type": "code",
      "source": [
        "# filtragem dos atletas homens e contagem (size) do número de linhas em cada grupo(groupby) \"Esporte\"\n",
        "atletas_homens = df[df['Sexo'] == 'M']\n",
        "atletas_homens_por_esporte = df[df['Sexo'] == 'M'].groupby('Esporte').size()\n",
        "\n",
        "print('Quantidade de homens em cada esporte:')\n",
        "print(atletas_homens_por_esporte)"
      ],
      "metadata": {
        "id": "pc_kj7IXteYT",
        "colab": {
          "base_uri": "https://localhost:8080/"
        },
        "outputId": "1aeef4a9-bb86-4cc1-a933-01210de6aebb"
      },
      "execution_count": 9,
      "outputs": [
        {
          "output_type": "stream",
          "name": "stdout",
          "text": [
            "Quantidade de homens em cada esporte:\n",
            "Esporte\n",
            "Alpine Skiing                 174\n",
            "Archery                       106\n",
            "Art Competitions                2\n",
            "Athletics                    2409\n",
            "Badminton                      81\n",
            "Baseball                      333\n",
            "Basketball                    610\n",
            "Beach Volleyball               33\n",
            "Biathlon                      241\n",
            "Bobsleigh                     259\n",
            "Boxing                        685\n",
            "Canoeing                      770\n",
            "Cross Country Skiing          371\n",
            "Curling                        65\n",
            "Cycling                       669\n",
            "Diving                        157\n",
            "Equestrianism                 471\n",
            "Fencing                       783\n",
            "Figure Skating                124\n",
            "Football                      783\n",
            "Freestyle Skiing               51\n",
            "Golf                            2\n",
            "Gymnastics                    653\n",
            "Handball                      516\n",
            "Hockey                        714\n",
            "Ice Hockey                   1001\n",
            "Judo                          338\n",
            "Lacrosse                        2\n",
            "Luge                          133\n",
            "Modern Pentathlon             138\n",
            "Nordic Combined               137\n",
            "Rowing                       1396\n",
            "Rugby                          30\n",
            "Rugby Sevens                   38\n",
            "Sailing                       552\n",
            "Shooting                      397\n",
            "Short Track Speed Skating     138\n",
            "Skeleton                       12\n",
            "Ski Jumping                   172\n",
            "Snowboarding                   44\n",
            "Speed Skating                 252\n",
            "Swimming                     1319\n",
            "Table Tennis                   83\n",
            "Taekwondo                      72\n",
            "Tennis                         89\n",
            "Trampolining                   15\n",
            "Triathlon                      15\n",
            "Tug-Of-War                      8\n",
            "Volleyball                    489\n",
            "Water Polo                    573\n",
            "Weightlifting                 427\n",
            "Wrestling                     899\n",
            "dtype: int64\n"
          ]
        }
      ]
    },
    {
      "cell_type": "code",
      "source": [
        "medalhas_homens = atletas_homens['Medalha'].value_counts()\n",
        "medalhas_soma_homens = medalhas_homens.sum()\n",
        "print('Número total de medalhas ganhas por atletas homens:', medalhas_soma_homens)\n",
        "print('Número de medalhas, por categoria, ganhas por atletas homens:')\n",
        "print(medalhas_homens)\n",
        "\n"
      ],
      "metadata": {
        "colab": {
          "base_uri": "https://localhost:8080/"
        },
        "id": "xUY0L-4ruO1c",
        "outputId": "630b25e9-8d7c-4bd8-edfe-3f9ed12530f9"
      },
      "execution_count": 10,
      "outputs": [
        {
          "output_type": "stream",
          "name": "stdout",
          "text": [
            "Número total de medalhas ganhas por atletas homens: 19831\n",
            "Número de medalhas, por categoria, ganhas por atletas homens:\n",
            "Gold      6730\n",
            "Bronze    6673\n",
            "Silver    6428\n",
            "Name: Medalha, dtype: int64\n"
          ]
        }
      ]
    },
    {
      "cell_type": "code",
      "source": [
        "# Selecionamos apenas as linhas de homens e mulheres que ganharam medalhas \n",
        "# Agrupamos ao df o nome da atleta e a contagem do número de medalhas de ouro\n",
        "# sort_values() para classificar o df por número de medalhas de ouro em ordem decrescente (ascending=False)\n",
        "\n",
        "\n",
        "df_mulheres_ouro = df[(df['Sexo'] == 'F') & (df['Medalha'] == 'Gold')]\n",
        "df_mulheres_ouro_count = df_mulheres_ouro.groupby('Nome').count()['Medalha'].reset_index()\n",
        "df_mulheres_ouro_count.columns = ['Nome', 'Gold Medals']\n",
        "df_mulheres_ouro_count = df_mulheres_ouro_count.sort_values('Gold Medals', ascending=False)\n",
        "print(df_mulheres_ouro_count.head())\n",
        "\n",
        "\n"
      ],
      "metadata": {
        "colab": {
          "base_uri": "https://localhost:8080/"
        },
        "id": "hEZFmdHT1hV-",
        "outputId": "9f469f67-2df8-4e75-e1a0-4f106a87244f"
      },
      "execution_count": 11,
      "outputs": [
        {
          "output_type": "stream",
          "name": "stdout",
          "text": [
            "                                                 Nome  Gold Medals\n",
            "1149               Larysa Semenivna Latynina (Diriy-)            9\n",
            "892   Jennifer Elisabeth \"Jenny\" Thompson (-Cumpelik)            8\n",
            "229                            Birgit Fischer-Schmidt            8\n",
            "2257                           Vra slavsk (-Odloilov)            7\n",
            "1307                         Lyubov Ivanovna Yegorova            6\n"
          ]
        }
      ]
    },
    {
      "cell_type": "code",
      "source": [
        "df_mulheres_prata = df[(df['Sexo'] == 'F') & (df['Medalha'] == 'Silver')]\n",
        "df_mulheres_prata_count = df_mulheres_prata.groupby('Nome').count()['Medalha'].reset_index()\n",
        "df_mulheres_prata_count.columns = ['Nome', 'Silver Medals']\n",
        "df_mulheres_prata_count = df_mulheres_prata_count.sort_values('Silver Medals', ascending=False)\n",
        "print(df_mulheres_prata_count.head())\n",
        "\n"
      ],
      "metadata": {
        "colab": {
          "base_uri": "https://localhost:8080/"
        },
        "id": "bteZb6Zi38Y_",
        "outputId": "162f7e7f-d253-40eb-e68f-0120c930efcc"
      },
      "execution_count": 12,
      "outputs": [
        {
          "output_type": "stream",
          "name": "stdout",
          "text": [
            "                                                Nome  Silver Medals\n",
            "2760                                       Yang Yang              6\n",
            "2379                       Shirley Frances Babashoff              6\n",
            "2575  Theodora Elisabeth Gerarda \"Anky\" van Grunsven              5\n",
            "1481                              Leisel Marie Jones              5\n",
            "1423              Larysa Semenivna Latynina (Diriy-)              5\n"
          ]
        }
      ]
    },
    {
      "cell_type": "code",
      "source": [
        "\n",
        "df_mulheres_Bronze = df[(df['Sexo'] == 'F') & (df['Medalha'] == 'Bronze')]\n",
        "df_mulheres_Bronze_count = df_mulheres_Bronze.groupby('Nome').count()['Medalha'].reset_index()\n",
        "df_mulheres_Bronze_count.columns = ['Nome', 'Bronze Medals']\n",
        "df_mulheres_Bronze_count = df_mulheres_Bronze_count.sort_values('Bronze Medals', ascending=False)\n",
        "print(df_mulheres_Bronze_count.head())\n",
        "\n"
      ],
      "metadata": {
        "colab": {
          "base_uri": "https://localhost:8080/"
        },
        "id": "zmfoXCw94F93",
        "outputId": "8769c219-e413-4e4f-b13b-2a5909394dc1"
      },
      "execution_count": 13,
      "outputs": [
        {
          "output_type": "stream",
          "name": "stdout",
          "text": [
            "                               Nome  Bronze Medals\n",
            "818           Franziska van Almsick              6\n",
            "1945       Merlene Joyce Ottey-Page              6\n",
            "2060  Natalie Anne Coughlin (-Hall)              5\n",
            "264     Antje Buschschulte (-Meeuw)              5\n",
            "2554              Stefania Belmondo              5\n"
          ]
        }
      ]
    },
    {
      "cell_type": "code",
      "source": [
        "# Selecionamos apenas as linhas de homens e mulheres que ganharam medalhas de ouro\n",
        "# Em seguida, utliza-se o método pivot() para transformar o df, agrupando o número de medalhas de ouro por ano e gênero.\n",
        "# Para comparar o total de medalhas de ouro por gênero ao longo do tempo, plotamos um gráfico de barras empilhado (kind = 'bar', stacked = True)\n",
        "\n",
        "df_ouro = df[(df['Medalha'] == 'Gold') & (df['Sexo'].isin(['M', 'F']))]\n",
        "df_ouro_genero = df_ouro.groupby(['Ano', 'Sexo'])['Medalha'].count().reset_index()\n",
        "\n",
        "df_ouro_genero_pivot = df_gold_genero.pivot(index='Ano', columns='Sexo', values='Medalha')\n",
        "\n",
        "ax = df_ouro_genero_pivot.plot(kind='bar', stacked=True, figsize=(12, 6))\n",
        "ax.set_xlabel('Ano')\n",
        "ax.set_ylabel('Número de medalhas de ouro')\n",
        "ax.set_title('Medalhas de ouro olímpicas por gênero')\n",
        "plt.show()"
      ],
      "metadata": {
        "id": "d-YkGuuZ5RpW",
        "outputId": "4a282d91-5712-4e14-cc0e-09fa4a89c1da",
        "colab": {
          "base_uri": "https://localhost:8080/",
          "height": 503
        }
      },
      "execution_count": 14,
      "outputs": [
        {
          "output_type": "display_data",
          "data": {
            "text/plain": [
              "<Figure size 1200x600 with 1 Axes>"
            ],
            "image/png": "[encoded data removed]"
          },
          "metadata": {}
        }
      ]
    },
    {
      "cell_type": "code",
      "source": [
        "\n",
        "# Selecionar atletas brasileiros\n",
        "df_atletas_brasil = df[df[\"NOC\"] == \"BRA\"]\n",
        "\n",
        "# Número de atletas brasileiros \n",
        "num_atletas_brasil = df_atletas_brasil[\"Nome\"].nunique()\n",
        "print(\"Número de atletas brasileiros: \", num_atletas_brasil)\n",
        "\n",
        "# Total de medalhas ganhas pelos atletas brasileiros\n",
        "total_medalhas_brasil = df_atletas_brasil[\"Medalha\"].count()\n",
        "print(\"Total de medalhas: \", total_medalhas_brasil)\n",
        "\n",
        "# Quantidade de medalhas de ouro dos atletas brasileiros\n",
        "medalhas_ouro_brasil = df_atletas_brasil[df_atletas_brasil[\"Medalha\"] == \"Gold\"][\"Medalha\"].count()\n",
        "print(\"Medalhas de ouro: \", medalhas_ouro_brasil )\n",
        "\n",
        "# Quantidade de medalhas de prata dos atletas brasileiros\n",
        "medalhas_prata_brasil = df_atletas_brasil[df_atletas_brasil[\"Medalha\"] == \"Silver\"][\"Medalha\"].count()\n",
        "print(\"Medalhas de prata: \", medalhas_prata_brasil)\n",
        "\n",
        "# Quantidade de medalhas de bronze dos atletas brasileiros\n",
        "medalhas_bronze_brasil = df_atletas_brasil[df_atletas_brasil[\"Medalha\"] == \"Bronze\"][\"Medalha\"].count()\n",
        "print(\"Medalhas de bronze: \", medalhas_bronze_brasil)\n",
        "\n",
        "# Esportes em que os atletas brasileiros competiram\n",
        "# nunique() conta o número de esportes únicos na coluna 'Esporte',retornando o número de esportes praticados por brasileiros \n",
        "esportes_brasil = df_atletas_brasil[\"Esporte\"].nunique()\n",
        "print(\"Esportes: \", esportes_brasil)\n"
      ],
      "metadata": {
        "colab": {
          "base_uri": "https://localhost:8080/"
        },
        "id": "KTkMZ5nc68kH",
        "outputId": "8c05419b-0073-4f0d-b5f3-59e35376791a"
      },
      "execution_count": 15,
      "outputs": [
        {
          "output_type": "stream",
          "name": "stdout",
          "text": [
            "Número de atletas brasileiros:  334\n",
            "Total de medalhas:  447\n",
            "Medalhas de ouro:  107\n",
            "Medalhas de prata:  168\n",
            "Medalhas de bronze:  172\n",
            "Esportes:  15\n"
          ]
        }
      ]
    },
    {
      "cell_type": "code",
      "source": [
        "# Quantidade de atletas brasileiras na base de dados\n",
        "# nunique() é usada para contar o número de nomes únicos de mulheres na coluna 'Nome' nas linhas selecionadas\n",
        "df_brasil_mulheres = df[(df[\"NOC\"] == \"BRA\") & (df[\"Sexo\"] == \"F\")]\n",
        "mulheres_brasileiras = df_brasil_mulheres[\"Nome\"].nunique()\n",
        "print(\"Número de atletas mulheres brasileiras: \", mulheres_brasileiras)\n"
      ],
      "metadata": {
        "colab": {
          "base_uri": "https://localhost:8080/"
        },
        "id": "pmo6vltU8-Bh",
        "outputId": "6f739494-57fc-4614-c7cc-8dc2c941404c"
      },
      "execution_count": null,
      "outputs": [
        {
          "output_type": "stream",
          "name": "stdout",
          "text": [
            "Número de atletas mulheres brasileiras:  102\n"
          ]
        }
      ]
    },
    {
      "cell_type": "code",
      "source": [
        "# Proporção de mulheres brasileiras na base de dados\n",
        "prop_mulheres = mulheres_brasileiras / num_atletas_brasil\n",
        "print(\"Proporção de atletas brasileiras: \", prop_mulheres)"
      ],
      "metadata": {
        "colab": {
          "base_uri": "https://localhost:8080/"
        },
        "id": "vlGTjHvS9zU_",
        "outputId": "a1bec181-b035-4eb4-f622-5d19ae305949"
      },
      "execution_count": null,
      "outputs": [
        {
          "output_type": "stream",
          "name": "stdout",
          "text": [
            "Proporção de atletas brasileiras:  0.30538922155688625\n"
          ]
        }
      ]
    },
    {
      "cell_type": "code",
      "source": [
        "#  Quantidade dos atletas brasileiros\n",
        "df_brasil_homens = df[(df[\"NOC\"] == \"BRA\") & (df[\"Sexo\"] == \"M\")]\n",
        "homens_brasileiros = df_brasil_homens[\"Nome\"].nunique()\n",
        "print(\"Número de atletas homens brasileiras: \", homens_brasileiros)"
      ],
      "metadata": {
        "colab": {
          "base_uri": "https://localhost:8080/"
        },
        "id": "5NZOB03dBqYN",
        "outputId": "53347268-e85c-4d13-b778-58d766b28fc3"
      },
      "execution_count": null,
      "outputs": [
        {
          "output_type": "stream",
          "name": "stdout",
          "text": [
            "Número de atletas homens brasileiras:  232\n"
          ]
        }
      ]
    },
    {
      "cell_type": "code",
      "source": [
        "# Proporção de homens brasileiros\n",
        "prop_homens = homens_brasileiros / num_atletas_brasil\n",
        "print(\"Proporção de atletas brasileiros: \", prop_homens)"
      ],
      "metadata": {
        "colab": {
          "base_uri": "https://localhost:8080/"
        },
        "id": "jOb6NL1UC5w2",
        "outputId": "49df62fd-d44a-4fe0-ff8e-71d7fcaaaa8e"
      },
      "execution_count": null,
      "outputs": [
        {
          "output_type": "stream",
          "name": "stdout",
          "text": [
            "Proporção de atletas brasileiros:  0.6946107784431138\n"
          ]
        }
      ]
    },
    {
      "cell_type": "code",
      "source": [
        "# Filtrar dados dos atletas por gênero e ano\n",
        "# O método reset_index() redefine o índice do df e cria uma nova coluna \"Número de Atletas\" para armazenar os valores do índice anterior.\n",
        "df_genero_ano = df.groupby([\"Ano\", \"Sexo\"]).size().reset_index(name=\"Número de atletas\")\n",
        "\n",
        "# Criar gráfico de barras empilhadas\n",
        "sns.set_style(\"darkgrid\")\n",
        "sns.set_palette(\"Set1\")\n",
        "plt.figure(figsize=(13,9))\n",
        "sns.barplot(x=\"Ano\", y=\"Número de atletas\", hue=\"Sexo\", data=df_genero_ano)\n",
        "plt.title(\"Número de atletas por gênero nos Jogos Olímpicos\", fontsize=19)\n",
        "plt.xlabel(\"Ano\", fontsize=15)\n",
        "plt.ylabel(\"Número de atletas\", fontsize=15)\n",
        "plt.xticks(rotation=70)\n",
        "plt.legend(fontsize=9)\n",
        "plt.show()\n"
      ],
      "metadata": {
        "colab": {
          "base_uri": "https://localhost:8080/",
          "height": 833
        },
        "id": "4tGWJ56mD8Y9",
        "outputId": "30bf7a34-877f-472b-f01b-8063697de470"
      },
      "execution_count": null,
      "outputs": [
        {
          "output_type": "display_data",
          "data": {
            "text/plain": [
              "<Figure size 1300x900 with 1 Axes>"
            ],
            "image/png": "[encoded data removed]"
          },
          "metadata": {}
        }
      ]
    },
    {
      "cell_type": "markdown",
      "source": [
        "###CONCLUSÃO:\n",
        "\n",
        "###Dada a análise, é possível concluir que há uma diferença significativa na quantidade de medalhas conquistadas por homens e mulheres nos Jogos Olímpicos.\n",
        "\n",
        "###Uma possível explicação para tal fato é o a desigualdade de gênero dentro dos esportes e Olimpíadas , na oportunidade de participar, ter apoio médico e patrocínio para garantir maior rendimento das atletas."
      ],
      "metadata": {
        "id": "yDmb91vVAism"
      }
    }
  ]
}